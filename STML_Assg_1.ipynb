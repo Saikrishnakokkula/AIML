{
  "nbformat": 4,
  "nbformat_minor": 0,
  "metadata": {
    "colab": {
      "provenance": []
    },
    "kernelspec": {
      "name": "python3",
      "display_name": "Python 3"
    },
    "language_info": {
      "name": "python"
    }
  },
  "cells": [
    {
      "cell_type": "code",
      "execution_count": null,
      "metadata": {
        "colab": {
          "base_uri": "https://localhost:8080/",
          "height": 507
        },
        "id": "SUCxI43SnOXx",
        "outputId": "4ede17a3-593b-45db-cff5-494bfd682fa4"
      },
      "outputs": [
        {
          "output_type": "display_data",
          "data": {
            "text/plain": [
              "<Figure size 640x480 with 1 Axes>"
            ],
            "image/png": "[encoded data removed]"
          },
          "metadata": {}
        },
        {
          "output_type": "stream",
          "name": "stdout",
          "text": [
            "Bins: [2.3  2.56 2.82 3.08 3.34 3.6 ]\n",
            "Counts (density): [0.76923077 1.15384615 0.76923077 0.76923077 0.38461538]\n"
          ]
        }
      ],
      "source": [
        "import numpy as np\n",
        "import matplotlib.pyplot as plt\n",
        "\n",
        "# Dataset\n",
        "X = np.array([2.3, 2.5, 3.6, 2.8, 3.1, 2.9, 3.2, 2.7, 2.8, 3.0])\n",
        "\n",
        "# Compute histogram\n",
        "counts , bins, =np.histogram(X,bins=5,density=True)\n",
        "\n",
        "#Bin width\n",
        "bin_width = bins[1] - bins[0]\n",
        "\n",
        "\n",
        "\n",
        "\n",
        "# Plot histogram\n",
        "plt.hist(X, bins=5, density=True, color='red', alpha=0.6)\n",
        "plt.xlabel('Value')\n",
        "plt.ylabel('Density')\n",
        "plt.title('Histogram with 5 Bins')\n",
        "plt.show()\n",
        "\n",
        "#print histogram details\n",
        "print(\"Bins:\",bins)\n",
        "print(\"Counts (density):\",counts)"
      ]
    },
    {
      "cell_type": "code",
      "source": [
        "from google.colab import drive\n",
        "drive.mount('/content/drive')"
      ],
      "metadata": {
        "colab": {
          "base_uri": "https://localhost:8080/"
        },
        "id": "Q0APDFtPpMg9",
        "outputId": "09af6ce9-b789-4a82-f8ec-4be996a08a52"
      },
      "execution_count": null,
      "outputs": [
        {
          "output_type": "stream",
          "name": "stdout",
          "text": [
            "Mounted at /content/drive\n"
          ]
        }
      ]
    },
    {
      "cell_type": "code",
      "source": [
        "import pandas as pd\n",
        "import numpy as np\n",
        "import matplotlib.pyplot as plt\n",
        "import statistics as stat\n",
        "from scipy.stats import skew\n",
        "from scipy.stats import kurtosis\n",
        "from scipy.stats import iqr\n",
        "data=pd.read_csv('/content/archive (18).zip',usecols=(['housing_median_age']))\n",
        "#data.tail(-1)\n",
        "#print(data)\n",
        "p=data.head(28)\n",
        "print(data.head(28))\n",
        "#plt.hist(data,100)\n",
        "mode = stat.mode(data)\n",
        "print(\"The mean of the data=\",np.mean(data))\n",
        "print(\"The median of the data=\",np.median(data))\n",
        "print(\"The mode of the data=\",stat.mode(data))\n",
        "print(\"The SD of the data=\",np.std(data))\n",
        "print(\"The skew of the data=\",skew(data,axis=0,bias=True))\n",
        "print(\"The kurtosis of the data=\",kurtosis(data,axis=0,bias=True))\n",
        "print(\"The IQR of the data=\",iqr(data))"
      ],
      "metadata": {
        "colab": {
          "base_uri": "https://localhost:8080/"
        },
        "id": "oDoyZMbqpV6q",
        "outputId": "b9a5c987-82b8-4114-b7b0-c9e1008beddc"
      },
      "execution_count": null,
      "outputs": [
        {
          "output_type": "stream",
          "name": "stdout",
          "text": [
            "    housing_median_age\n",
            "0                 41.0\n",
            "1                 21.0\n",
            "2                 52.0\n",
            "3                 52.0\n",
            "4                 52.0\n",
            "5                 52.0\n",
            "6                 52.0\n",
            "7                 52.0\n",
            "8                 42.0\n",
            "9                 52.0\n",
            "10                52.0\n",
            "11                52.0\n",
            "12                52.0\n",
            "13                52.0\n",
            "14                52.0\n",
            "15                50.0\n",
            "16                52.0\n",
            "17                52.0\n",
            "18                50.0\n",
            "19                52.0\n",
            "20                40.0\n",
            "21                42.0\n",
            "22                52.0\n",
            "23                52.0\n",
            "24                52.0\n",
            "25                41.0\n",
            "26                49.0\n",
            "27                52.0\n",
            "The mean of the data= 28.639486434108527\n",
            "The median of the data= 29.0\n",
            "The mode of the data= housing_median_age\n",
            "The SD of the data= housing_median_age    12.585253\n",
            "dtype: float64\n",
            "The skew of the data= [0.06032625]\n",
            "The kurtosis of the data= [-0.8007256]\n",
            "The IQR of the data= 19.0\n"
          ]
        },
        {
          "output_type": "stream",
          "name": "stderr",
          "text": [
            "/usr/local/lib/python3.10/dist-packages/numpy/core/fromnumeric.py:3643: FutureWarning: The behavior of DataFrame.std with axis=None is deprecated, in a future version this will reduce over both axes and return a scalar. To retain the old behavior, pass axis=0 (or do not pass axis)\n",
            "  return std(axis=axis, dtype=dtype, out=out, ddof=ddof, **kwargs)\n"
          ]
        }
      ]
    },
    {
      "cell_type": "code",
      "source": [
        "import numpy as np\n",
        "import pandas as pd\n",
        "from scipy import stats\n",
        "import matplotlib.pyplot as plt\n",
        "data = np.array([1.3, 1.5, 2.6, 2.6, 3.2, 3.9, 4.2, 3.7, 3.10, 3.0, 11, 6.7, 1.9])\n",
        "mean_value = np.mean(data)\n",
        "\n",
        "median_value = np.median(data)\n",
        "\n",
        "mode_value, mode_count = stats.mode(data)\n",
        "\n",
        "variance_value = np.var(data, ddof=1)\n",
        "\n",
        "\n",
        "std_dev_value = np.std(data, ddof=1)\n",
        "\n",
        "\n",
        "range_value = np.ptp(data)\n",
        "\n",
        "\n",
        "q75, q25 = np.percentile(data, [75, 25])\n",
        "iqr_value = q75 - q25\n",
        "\n",
        "\n",
        "skewness_value = stats.skew(data)\n",
        "\n",
        "\n",
        "kurtosis_value = stats.kurtosis(data)\n",
        "\n",
        "print(f\"Mean: {mean_value:.2f}\")\n",
        "print(f\"Median: {median_value:.2f}\")\n",
        "print(f\"Variance: {variance_value:.2f}\")\n",
        "print(f\"Standard Deviation: {std_dev_value:.2f}\")\n",
        "print(f\"Range: {range_value:.2f}\")\n",
        "print(f\"Interquartile Range (IQR): {iqr_value:.2f}\")\n",
        "print(f\"Skewness: {skewness_value:.2f}\")\n",
        "print(f\"Kurtosis: {kurtosis_value:.2f}\")"
      ],
      "metadata": {
        "colab": {
          "base_uri": "https://localhost:8080/"
        },
        "id": "6-PSugOXp4tw",
        "outputId": "efb4b567-a56f-4134-c93a-cb21cd1498a4"
      },
      "execution_count": null,
      "outputs": [
        {
          "output_type": "stream",
          "name": "stdout",
          "text": [
            "Mean: 3.75\n",
            "Median: 3.10\n",
            "Variance: 6.66\n",
            "Standard Deviation: 2.58\n",
            "Range: 9.70\n",
            "Interquartile Range (IQR): 1.30\n",
            "Skewness: 1.87\n",
            "Kurtosis: 2.95\n"
          ]
        }
      ]
    },
    {
      "cell_type": "code",
      "source": [
        "import numpy as np\n",
        "import pandas as pd\n",
        "from scipy import stats\n",
        "import matplotlib.pyplot as plt\n",
        "data = np.array([5,6,3,8,3,7,8])\n",
        "mean_value = np.mean(data)\n",
        "median_value = np.median(data)\n",
        "mode_value, mode_count = stats.mode(data)\n",
        "variance_value = np.var(data, ddof=1)\n",
        "std_dev_value = np.std(data, ddof=1)\n",
        "range_value = np.ptp(data)\n",
        "q75, q25 = np.percentile(data, [75, 25])\n",
        "iqr_value = q75 - q25\n",
        "skewness_value = stats.skew(data)\n",
        "kurtosis_value = stats.kurtosis(data)\n",
        "print(f\"Mean: {mean_value:.2f}\")\n",
        "print(f\"Median: {median_value:.2f}\")\n",
        "print(f\"Variance: {variance_value:.2f}\")\n",
        "print(f\"Standard Deviation: {std_dev_value:.2f}\")\n",
        "print(f\"Range: {range_value:.2f}\")\n",
        "print(f\"Interquartile Range (IQR): {iqr_value:.2f}\")\n",
        "print(f\"Skewness: {skewness_value:.2f}\")\n",
        "print(f\"Kurtosis: {kurtosis_value:.2f}\")"
      ],
      "metadata": {
        "colab": {
          "base_uri": "https://localhost:8080/"
        },
        "id": "qXaCSnR0qTpt",
        "outputId": "d1d2cc16-b815-4b0c-a996-a7d04a3a4605"
      },
      "execution_count": null,
      "outputs": [
        {
          "output_type": "stream",
          "name": "stdout",
          "text": [
            "Mean: 5.71\n",
            "Median: 6.00\n",
            "Variance: 4.57\n",
            "Standard Deviation: 2.14\n",
            "Range: 5.00\n",
            "Interquartile Range (IQR): 3.50\n",
            "Skewness: -0.26\n",
            "Kurtosis: -1.45\n"
          ]
        }
      ]
    }
  ]
}